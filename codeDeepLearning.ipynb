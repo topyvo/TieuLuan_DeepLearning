{
  "nbformat": 4,
  "nbformat_minor": 0,
  "metadata": {
    "colab": {
      "provenance": []
    },
    "kernelspec": {
      "name": "python3",
      "display_name": "Python 3"
    },
    "language_info": {
      "name": "python"
    }
  },
  "cells": [
    {
      "cell_type": "code",
      "execution_count": null,
      "metadata": {
        "id": "m3xOcfpHRmqY"
      },
      "outputs": [],
      "source": [
        "# To support both python 2 and python 3\n",
        "from __future__ import division, print_function, unicode_literals\n",
        "import numpy as np\n",
        "import matplotlib.pyplot as plt\n",
        "from matplotlib.backends.backend_pdf import PdfPages\n",
        "np.random.seed(2)\n",
        "\n",
        "X = np.array([[0.50, 0.75, 1.00, 1.25, 1.50, 1.75, 1.75, 2.00, 2.25, 2.50,\n",
        "              2.75, 3.00, 3.25, 3.50, 4.00, 4.25, 4.50, 4.75, 5.00, 5.50]])\n",
        "y = np.array([0, 0, 0, 0, 0, 0, 1, 0, 1, 0, 1, 0, 1, 0, 1, 1, 1, 1, 1, 1])\n",
        "\n",
        "# extened data\n",
        "X = np.concatenate((np.ones((1, X.shape[1])), X), axis = 0)"
      ]
    },
    {
      "cell_type": "code",
      "source": [
        "def sigmoid(s):\n",
        "    return 1/(1 + np.exp(-s))\n",
        "\n",
        "def logistic_sigmoid_regression(X, y, w_init, eta, tol = 1e-4, max_count = 10000):\n",
        "    w = [w_init]\n",
        "    it = 0\n",
        "    N = X.shape[1]\n",
        "    d = X.shape[0]\n",
        "    count = 0\n",
        "    check_w_after = 20\n",
        "    while count < max_count:\n",
        "#         it += 1\n",
        "        # mix data\n",
        "        mix_id = np.random.permutation(N)\n",
        "        for i in mix_id:\n",
        "            xi = X[:, i].reshape(d, 1)\n",
        "            yi = y[i]\n",
        "            zi = sigmoid(np.dot(w[-1].T, xi))\n",
        "            w_new = w[-1] + eta*(yi - zi)*xi\n",
        "            count += 1\n",
        "            # stopping criteria\n",
        "            if count%check_w_after == 0:\n",
        "                if np.linalg.norm(w_new - w[-check_w_after]) < tol:\n",
        "                    return w\n",
        "            w.append(w_new)\n",
        "    return w\n",
        "eta = .05\n",
        "d = X.shape[0]\n",
        "w_init = np.random.randn(d, 1)\n",
        "\n",
        "w = logistic_sigmoid_regression(X, y, w_init, eta)\n",
        "print(w[-1])"
      ],
      "metadata": {
        "colab": {
          "base_uri": "https://localhost:8080/"
        },
        "id": "wZ-d4G3pRo44",
        "outputId": "1ad51ac3-66cd-4c54-be05-655e1b95211e"
      },
      "execution_count": null,
      "outputs": [
        {
          "output_type": "stream",
          "name": "stdout",
          "text": [
            "[[-4.092695  ]\n",
            " [ 1.55277242]]\n"
          ]
        }
      ]
    },
    {
      "cell_type": "code",
      "source": [
        "print(sigmoid(np.dot(w[-1].T, X)))"
      ],
      "metadata": {
        "colab": {
          "base_uri": "https://localhost:8080/"
        },
        "id": "kDoAyVRVRsB3",
        "outputId": "a7a01929-e751-4f9c-aef9-29f81751d3f8"
      },
      "execution_count": null,
      "outputs": [
        {
          "output_type": "stream",
          "name": "stdout",
          "text": [
            "[[0.03501592 0.05078108 0.07310642 0.10416972 0.14634799 0.20175793\n",
            "  0.20175793 0.27147534 0.35458234 0.4475032  0.54424128 0.63775242\n",
            "  0.72188183 0.79282004 0.89267823 0.92460236 0.94758783 0.96384008\n",
            "  0.97518471 0.9884283 ]]\n"
          ]
        }
      ]
    },
    {
      "cell_type": "code",
      "source": [
        "X0 = X[1, np.where(y == 0)][0]\n",
        "y0 = y[np.where(y == 0)]\n",
        "X1 = X[1, np.where(y == 1)][0]\n",
        "y1 = y[np.where(y == 1)]\n",
        "\n",
        "plt.plot(X0, y0, 'ro', markersize = 8)\n",
        "plt.plot(X1, y1, 'bs', markersize = 8)\n",
        "\n",
        "xx = np.linspace(0, 6, 1000)\n",
        "w0 = w[-1][0][0]\n",
        "w1 = w[-1][1][0]\n",
        "threshold = -w0/w1\n",
        "yy = sigmoid(w0 + w1*xx)\n",
        "plt.axis([-2, 8, -1, 2])\n",
        "plt.plot(xx, yy, 'g-', linewidth = 2)\n",
        "plt.plot(threshold, .5, 'y^', markersize = 8)\n",
        "plt.xlabel('studying hours')\n",
        "plt.ylabel('predicted probability of pass')\n",
        "plt.savefig('lg_results.png', bbox_inches='tight', dpi = 300)\n",
        "plt.show()\n"
      ],
      "metadata": {
        "colab": {
          "base_uri": "https://localhost:8080/",
          "height": 283
        },
        "id": "qOTVsM8oRtxP",
        "outputId": "76707169-2017-4a8b-d30a-447d838a25a0"
      },
      "execution_count": null,
      "outputs": [
        {
          "output_type": "display_data",
          "data": {
            "text/plain": [
              "<Figure size 432x288 with 1 Axes>"
            ],
            "image/png": "[encoded data removed]"
          },
          "metadata": {
            "needs_background": "light"
          }
        }
      ]
    },
    {
      "cell_type": "code",
      "source": [
        "# To support both python 2 and python 3\n",
        "from __future__ import division, print_function, unicode_literals\n",
        "# list of points\n",
        "import numpy as np\n",
        "import matplotlib.pyplot as plt\n",
        "from scipy.spatial.distance import cdist\n",
        "np.random.seed(22)\n",
        "\n",
        "means = [[2, 2], [4, 2]]\n",
        "cov = [[.7, 0], [0, .7]]\n",
        "N = 20\n",
        "X0 = np.random.multivariate_normal(means[0], cov, N)\n",
        "X1 = np.random.multivariate_normal(means[1], cov, N)\n",
        "\n",
        "plt.plot(X0[:, 0], X0[:, 1], 'bs', markersize = 8, alpha = 1)\n",
        "plt.plot(X1[:, 0], X1[:, 1], 'ro', markersize = 8, alpha = 1)\n",
        "plt.axis('equal')\n",
        "plt.ylim(0, 4)\n",
        "plt.xlim(0, 5)\n",
        "\n",
        "# hide tikcs\n",
        "cur_axes = plt.gca()\n",
        "cur_axes.axes.get_xaxis().set_ticks([])\n",
        "cur_axes.axes.get_yaxis().set_ticks([])\n",
        "\n",
        "plt.xlabel('$x_1$', fontsize = 20)\n",
        "plt.ylabel('$x_2$', fontsize = 20)\n",
        "plt.savefig('logistic_2d.png', bbox_inches='tight', dpi = 300)\n",
        "plt.show()"
      ],
      "metadata": {
        "colab": {
          "base_uri": "https://localhost:8080/",
          "height": 271
        },
        "id": "USb-hkbZRyMw",
        "outputId": "dd864213-092c-41f5-e2ba-b580fa603f93"
      },
      "execution_count": null,
      "outputs": [
        {
          "output_type": "display_data",
          "data": {
            "text/plain": [
              "<Figure size 432x288 with 1 Axes>"
            ],
            "image/png": "[encoded data removed]"
          },
          "metadata": {}
        }
      ]
    },
    {
      "cell_type": "code",
      "source": [
        "print(X0.shape)"
      ],
      "metadata": {
        "colab": {
          "base_uri": "https://localhost:8080/"
        },
        "id": "u4coKyoeR0NY",
        "outputId": "efd9e070-8d9e-4ff6-d210-9f8091df0b8f"
      },
      "execution_count": null,
      "outputs": [
        {
          "output_type": "stream",
          "name": "stdout",
          "text": [
            "(20, 2)\n"
          ]
        }
      ]
    },
    {
      "cell_type": "code",
      "source": [
        "X = np.concatenate((X0, X1), axis = 0).T\n",
        "y = np.concatenate((np.zeros((1, N)), np.ones((1, N))), axis = 1).T\n",
        "# Xbar\n",
        "X = np.concatenate((np.ones((1, 2*N)), X), axis = 0)\n",
        "\n",
        "eta = .05\n",
        "d = X.shape[0]\n",
        "w_init = np.random.randn(d, 1)\n",
        "\n",
        "w = logistic_sigmoid_regression(X, y, w_init, eta, tol = 1e-4, max_count= 10000)\n",
        "print(w[-1])\n"
      ],
      "metadata": {
        "colab": {
          "base_uri": "https://localhost:8080/"
        },
        "id": "hAHzOt2aR12n",
        "outputId": "8237b0ae-e20b-4f58-f028-2ab6a452fca7"
      },
      "execution_count": null,
      "outputs": [
        {
          "output_type": "stream",
          "name": "stdout",
          "text": [
            "[[-9.51043127]\n",
            " [ 2.25978315]\n",
            " [ 1.42588178]]\n"
          ]
        }
      ]
    },
    {
      "cell_type": "code",
      "source": [
        "# Make data.\n",
        "xm = np.arange(-1, 6, 0.025)\n",
        "xlen = len(xm)\n",
        "ym = np.arange(0, 4, 0.025)\n",
        "ylen = len(ym)\n",
        "xm, ym = np.meshgrid(xm, ym)\n",
        "w0 = w[-1][0][0]\n",
        "w1 = w[-1][1][0]\n",
        "w2 = w[-1][2][0]\n",
        "zm = sigmoid(w0 + w1*xm + w2*ym)\n",
        "\n",
        "CS = plt.contourf(xm, ym, zm, 200, cmap='jet')\n",
        "\n",
        "plt.plot(X0[:, 0], X0[:, 1], 'bs', markersize = 8, alpha = 1)\n",
        "plt.plot(X1[:, 0], X1[:, 1], 'ro', markersize = 8, alpha = 1)\n",
        "plt.axis('equal')\n",
        "plt.ylim(0, 4)\n",
        "plt.xlim(0, 5)\n",
        "\n",
        "# hide tikcs\n",
        "cur_axes = plt.gca()\n",
        "cur_axes.axes.get_xaxis().set_ticks([])\n",
        "cur_axes.axes.get_yaxis().set_ticks([])\n",
        "\n",
        "plt.xlabel('$x_1$', fontsize = 20)\n",
        "plt.ylabel('$x_2$', fontsize = 20)\n",
        "plt.savefig('logistic_2d_2.png', bbox_inches='tight', dpi = 300)\n",
        "plt.show()"
      ],
      "metadata": {
        "colab": {
          "base_uri": "https://localhost:8080/",
          "height": 271
        },
        "id": "EtECvmf9R33w",
        "outputId": "6b4e053a-5147-4ed5-8152-b330689a8161"
      },
      "execution_count": null,
      "outputs": [
        {
          "output_type": "display_data",
          "data": {
            "text/plain": [
              "<Figure size 432x288 with 1 Axes>"
            ],
            "image/png": "[encoded data removed]"
          },
          "metadata": {}
        }
      ]
    }
  ]
}